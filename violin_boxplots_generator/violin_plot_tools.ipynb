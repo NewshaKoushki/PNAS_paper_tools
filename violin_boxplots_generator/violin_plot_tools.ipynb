{
 "cells": [
  {
   "cell_type": "markdown",
   "metadata": {},
   "source": [
    "## Create P-value plot\n",
    "- It reads the data.\n",
    "- Generate a datFrame."
   ]
  },
  {
   "cell_type": "code",
   "execution_count": 47,
   "metadata": {},
   "outputs": [],
   "source": [
    "import pandas as pd\n",
    "import scipy.stats as stats\n",
    "from scipy.stats import ttest_1samp\n",
    "import numpy as np\n",
    "%matplotlib inline"
   ]
  },
  {
   "cell_type": "markdown",
   "metadata": {},
   "source": [
    "Read the csv file for lamin expression \"lamin_ex_p_value.csv\" and store the data in df."
   ]
  },
  {
   "cell_type": "code",
   "execution_count": 117,
   "metadata": {},
   "outputs": [],
   "source": [
    "infile = \"lamin_ex_p_value.csv\"\n",
    "df = pd.read_csv(infile)"
   ]
  },
  {
   "attachments": {},
   "cell_type": "markdown",
   "metadata": {},
   "source": [
    "Calculate the P-value for  \"WT\" and \"Lamin si\", and \"WT and \"lamin over\" \n",
    "Set alpha value to 5%"
   ]
  },
  {
   "cell_type": "code",
   "execution_count": 139,
   "metadata": {},
   "outputs": [
    {
     "name": "stdout",
     "output_type": "stream",
     "text": [
      "this is P-value between LamA/C siRNA and WT: 2.651164835320475e-18\n",
      "this is T-value between LamA/C siRNA and WT: -12.728853554757176\n",
      "this is P-value between LamA/C  overexpressed and WT: 1.3280861670616335e-08\n",
      "this is T-value between LamA/C  overexpressed and WT: 6.686825301025793\n"
     ]
    }
   ],
   "source": [
    "alpha = 0.05 \n",
    "parm_1 = 'LamA/C siRNA'\n",
    "parm_2 = 'LamA/C  overexpressed'\n",
    "parm_3 = 'WT'\n",
    "x = df[parm_1].dropna()\n",
    "y = df[parm_3].dropna()\n",
    "ttest1,pval1 = stats.ttest_ind(x, y)\n",
    "print(\"this is P-value between {} and {}: {}\".format(parm_1, parm_3, pval1))\n",
    "print(\"this is T-value between {} and {}: {}\".format(parm_1, parm_3, ttest1))\n",
    "\n",
    "x = df[parm_2].dropna()\n",
    "y = df[parm_3].dropna()\n",
    "ttest2,pval2 = stats.ttest_ind(x, y)\n",
    "print(\"this is P-value between {} and {}: {}\".format(parm_2, parm_3, pval2))\n",
    "print(\"this is T-value between {} and {}: {}\".format(parm_2, parm_3, ttest2))\n"
   ]
  },
  {
   "cell_type": "code",
   "execution_count": 143,
   "metadata": {},
   "outputs": [
    {
     "data": {
      "image/png": "[encoded data removed]",
      "text/plain": [
       "<Figure size 432x288 with 1 Axes>"
      ]
     },
     "metadata": {
      "needs_background": "light"
     },
     "output_type": "display_data"
    }
   ],
   "source": [
    "import seaborn as sns\n",
    "import matplotlib.pyplot as plt\n",
    "parm_1 = 'LamA/C siRNA'\n",
    "parm_2 = 'LamA/C  overexpressed'\n",
    "parm_3 = 'WT'\n",
    "my_pal = {parm_1: \"#00FF00\", parm_2: \"#FF0000\", parm_3:\"#180AD4\"}\n",
    "file= \"lamin_ex_p_value.csv\"\n",
    "df= pd.read_csv(file)\n",
    "columns = [parm_1, parm_3, parm_2]\n",
    "df = df[columns]\n",
    "ax = sns.boxplot(x=\"variable\", y=\"value\", data=pd.melt(df), palette=my_pal)\n",
    "ax = sns.swarmplot(x=\"variable\", y=\"value\", data=pd.melt(df), color=\".1\")\n",
    "y_axis = \"LamA/C fluorescence (AU)\"\n",
    "x_axis = \"\"\n",
    "ax.set(xlabel=x_axis, ylabel=y_axis)\n",
    "ax.text(1, 60, 'p-value = '+str(round(pval2,10)), fontsize=12)\n",
    "ax.text(1, 60, '_________________', fontsize=15)\n",
    "ax.text(-0.25, 40, 'p-value = '+str(round(pval1,20)) , fontsize=12)\n",
    "ax.text(-0.25, 40, '_________________', fontsize=15)\n",
    "ax.set_ylim(-5,75)\n",
    "fig = ax.get_figure()\n",
    "fig.savefig(\"boxplot_lamiAC.pdf\")"
   ]
  },
  {
   "cell_type": "code",
   "execution_count": 83,
   "metadata": {},
   "outputs": [
    {
     "name": "stdout",
     "output_type": "stream",
     "text": [
      "          A         B         C         D\n",
      "0  0.883507  0.860921  0.993867  0.097326\n",
      "1  0.190081  0.000170  0.376005  0.695870\n",
      "2  0.421952  0.819985  0.280407  0.052820\n",
      "3  0.444358  0.950504  0.744712  0.978889\n"
     ]
    }
   ],
   "source": []
  },
  {
   "cell_type": "code",
   "execution_count": null,
   "metadata": {},
   "outputs": [],
   "source": []
  }
 ],
 "metadata": {
  "kernelspec": {
   "display_name": "Python 3",
   "language": "python",
   "name": "python3"
  },
  "language_info": {
   "codemirror_mode": {
    "name": "ipython",
    "version": 3
   },
   "file_extension": ".py",
   "mimetype": "text/x-python",
   "name": "python",
   "nbconvert_exporter": "python",
   "pygments_lexer": "ipython3",
   "version": "3.7.1"
  }
 },
 "nbformat": 4,
 "nbformat_minor": 2
}
